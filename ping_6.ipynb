{
 "cells": [
  {
   "cell_type": "markdown",
   "metadata": {},
   "source": [
    "# Etape 2 : PingV6"
   ]
  },
  {
   "cell_type": "code",
   "execution_count": 1,
   "metadata": {},
   "outputs": [
    {
     "name": "stderr",
     "output_type": "stream",
     "text": [
      "WARNING: Wireshark is installed, but cannot read manuf !\n"
     ]
    },
    {
     "name": "stdout",
     "output_type": "stream",
     "text": [
      "Voici les trames capturées :\n",
      "\n",
      "0000 Ether / IPv6 / ICMPv6ND_NS / ICMPv6 Neighbor Discovery Option - Source Link-Layer Address 64:00:6a:6a:c4:01\n"
     ]
    }
   ],
   "source": [
    "from scapy.all import *\n",
    "\n",
    "trames=rdpcap(\"ping6-display.pcapng\")\n",
    "print(\"Voici les trames capturées :\\n\")\n",
    "trames.show()"
   ]
  },
  {
   "cell_type": "code",
   "execution_count": 2,
   "metadata": {},
   "outputs": [
    {
     "data": {
      "text/plain": [
       "<Ether  dst=33:33:ff:00:00:01 src=64:00:6a:6a:c4:01 type=IPv6 |<IPv6  version=6 tc=0 fl=0 plen=32 nh=ICMPv6 hlim=255 src=2001:660:6701:30cc:84fc:c335:133c:f204 dst=ff02::1:ff00:1 |<ICMPv6ND_NS  type=Neighbor Solicitation code=0 cksum=0x1d60 res=0 tgt=2001:660:6701:30cc::1 |<ICMPv6NDOptSrcLLAddr  type=1 len=1 lladdr=64:00:6a:6a:c4:01 |>>>>"
      ]
     },
     "execution_count": 2,
     "metadata": {},
     "output_type": "execute_result"
    }
   ],
   "source": [
    "trames[0] #on print la trame"
   ]
  },
  {
   "cell_type": "code",
   "execution_count": 3,
   "metadata": {},
   "outputs": [
    {
     "name": "stdout",
     "output_type": "stream",
     "text": [
      "trame la ligne 1 de la trame a partir du première indice et ou internet (ça reviens au meme):\n"
     ]
    },
    {
     "data": {
      "text/plain": [
       "<Ether  dst=33:33:ff:00:00:01 src=64:00:6a:6a:c4:01 type=IPv6 |<IPv6  version=6 tc=0 fl=0 plen=32 nh=ICMPv6 hlim=255 src=2001:660:6701:30cc:84fc:c335:133c:f204 dst=ff02::1:ff00:1 |<ICMPv6ND_NS  type=Neighbor Solicitation code=0 cksum=0x1d60 res=0 tgt=2001:660:6701:30cc::1 |<ICMPv6NDOptSrcLLAddr  type=1 len=1 lladdr=64:00:6a:6a:c4:01 |>>>>"
      ]
     },
     "execution_count": 3,
     "metadata": {},
     "output_type": "execute_result"
    }
   ],
   "source": [
    "print(\"trame la ligne 1 de la trame a partir du première indice et ou internet (ça reviens au meme):\")\n",
    "trames[0][0]\n",
    "trames[0][Ether]\n",
    "# Affichent la même chose: la trame intégrale"
   ]
  },
  {
   "cell_type": "code",
   "execution_count": 4,
   "metadata": {},
   "outputs": [
    {
     "name": "stdout",
     "output_type": "stream",
     "text": [
      "on remonte la trame prévédente et on print au niveau IPv6\n"
     ]
    },
    {
     "data": {
      "text/plain": [
       "<IPv6  version=6 tc=0 fl=0 plen=32 nh=ICMPv6 hlim=255 src=2001:660:6701:30cc:84fc:c335:133c:f204 dst=ff02::1:ff00:1 |<ICMPv6ND_NS  type=Neighbor Solicitation code=0 cksum=0x1d60 res=0 tgt=2001:660:6701:30cc::1 |<ICMPv6NDOptSrcLLAddr  type=1 len=1 lladdr=64:00:6a:6a:c4:01 |>>>"
      ]
     },
     "execution_count": 4,
     "metadata": {},
     "output_type": "execute_result"
    }
   ],
   "source": [
    "print(\"on remonte la trame prévédente et on print au niveau IPv6\")\n",
    "trames[0][1]\n",
    "trames[0][IPv6]\n",
    "# Affiche la même chose: le paquet IPv6"
   ]
  },
  {
   "cell_type": "code",
   "execution_count": 5,
   "metadata": {},
   "outputs": [
    {
     "name": "stdout",
     "output_type": "stream",
     "text": [
      "on remonte la trame prévédente et on print au niveau IPv6ND_NS\n"
     ]
    },
    {
     "data": {
      "text/plain": [
       "<ICMPv6ND_NS  type=Neighbor Solicitation code=0 cksum=0x1d60 res=0 tgt=2001:660:6701:30cc::1 |<ICMPv6NDOptSrcLLAddr  type=1 len=1 lladdr=64:00:6a:6a:c4:01 |>>"
      ]
     },
     "execution_count": 5,
     "metadata": {},
     "output_type": "execute_result"
    }
   ],
   "source": [
    "print(\"on remonte la trame prévédente et on print au niveau IPv6ND_NS\")\n",
    "trames[0][2]\n",
    "trames[0][ICMPv6ND_NS]\n",
    "# Affiche la même chose: le paquet ICMP"
   ]
  },
  {
   "cell_type": "code",
   "execution_count": 6,
   "metadata": {},
   "outputs": [
    {
     "name": "stdout",
     "output_type": "stream",
     "text": [
      "on remonte la trame prévédente et on print au niveau ICMPv6NDOptSrcLLAddr\n"
     ]
    },
    {
     "data": {
      "text/plain": [
       "<ICMPv6NDOptSrcLLAddr  type=1 len=1 lladdr=64:00:6a:6a:c4:01 |>"
      ]
     },
     "execution_count": 6,
     "metadata": {},
     "output_type": "execute_result"
    }
   ],
   "source": [
    "print(\"on remonte la trame prévédente et on print au niveau ICMPv6NDOptSrcLLAddr\")\n",
    "trames[0][3]\n",
    "trames[0][ICMPv6NDOptSrcLLAddr]\n",
    "# Affiche la même chose: la sous-partie du paquet ICMP, contenant l'adresse MAC source"
   ]
  },
  {
   "cell_type": "code",
   "execution_count": 7,
   "metadata": {},
   "outputs": [
    {
     "data": {
      "text/plain": [
       "'64:00:6a:6a:c4:01'"
      ]
     },
     "execution_count": 7,
     "metadata": {},
     "output_type": "execute_result"
    }
   ],
   "source": [
    "trames[0][ICMPv6NDOptSrcLLAddr].lladdr"
   ]
  },
  {
   "cell_type": "code",
   "execution_count": 8,
   "metadata": {},
   "outputs": [
    {
     "data": {
      "text/plain": [
       "<ICMPv6NDOptSrcLLAddr  type=1 len=1 lladdr=64:00:6a:6a:c4:01 |>"
      ]
     },
     "execution_count": 8,
     "metadata": {},
     "output_type": "execute_result"
    }
   ],
   "source": [
    "trames[0][Ether].lladdr\n",
    "trames[0][IPv6].lladdr\n",
    "trames[0][ICMPv6NDOptSrcLLAddr]\n",
    "# Affichent également toutes les trois la même choseµ"
   ]
  },
  {
   "cell_type": "code",
   "execution_count": 9,
   "metadata": {},
   "outputs": [
    {
     "data": {
      "text/plain": [
       "<ICMPv6NDOptSrcLLAddr  type=1 len=1 lladdr=64:00:6a:6a:c4:01 |>"
      ]
     },
     "execution_count": 9,
     "metadata": {},
     "output_type": "execute_result"
    }
   ],
   "source": [
    "trames[0][Ether].lladdr\n",
    "trames[0][IPv6].lladdr\n",
    "trames[0][ICMPv6NDOptSrcLLAddr]\n",
    "# Affichent également toutes les trois la même chose"
   ]
  },
  {
   "cell_type": "code",
   "execution_count": 10,
   "metadata": {},
   "outputs": [
    {
     "data": {
      "text/plain": [
       "'ff02::1:ff00:1'"
      ]
     },
     "execution_count": 10,
     "metadata": {},
     "output_type": "execute_result"
    }
   ],
   "source": [
    "trames[0][IPv6].dst\n",
    "# Affiche aussi le premier champ \"dst\" trouvé ... mais ce n'est plus le même !"
   ]
  },
  {
   "cell_type": "code",
   "execution_count": 1,
   "metadata": {},
   "outputs": [],
   "source": [
    "#ICMP_types={ 0 : 'Echo-Reply', 3 : 'Destination Unreachable', 8 : 'Echo'}\n",
    "\n",
    "#def print_icmp (packet) :\n",
    "#    type=packet[ICMP].type\n",
    "#    ips=packet[IP].src\n",
    "#    ipd=packet[IP].dst\n",
    "#    if ips==iface_ip :\n",
    "#        print(f\"Emission d'un paquet ICMP {ICMP_types[type]} vers {ipd}\")\n",
    "#    else :\n",
    "#        print(f\"Réception d'un paquet ICMP {ICMP_types[type]} en provenance de {ips}\")\n",
    "        \n",
    "#iface_ip=get_if_addr(conf.iface)\n",
    "#sniff(filter=\"icmp\", prn=print_icmp, store=0, iface='en0', count=4)"
   ]
  },
  {
   "cell_type": "code",
   "execution_count": null,
   "metadata": {},
   "outputs": [],
   "source": []
  }
 ],
 "metadata": {
  "kernelspec": {
   "display_name": "base",
   "language": "python",
   "name": "python3"
  },
  "language_info": {
   "codemirror_mode": {
    "name": "ipython",
    "version": 3
   },
   "file_extension": ".py",
   "mimetype": "text/x-python",
   "name": "python",
   "nbconvert_exporter": "python",
   "pygments_lexer": "ipython3",
   "version": "3.11.6"
  }
 },
 "nbformat": 4,
 "nbformat_minor": 2
}
