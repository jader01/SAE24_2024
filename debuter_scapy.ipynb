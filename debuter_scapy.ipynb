{
 "cells": [
  {
   "cell_type": "markdown",
   "id": "cf053a4d",
   "metadata": {},
   "source": [
    "# Etape 1 : Debuter avec scapy"
   ]
  },
  {
   "cell_type": "code",
   "execution_count": 2,
   "id": "effe7fd3-703d-4c5d-809e-18a1f280320a",
   "metadata": {},
   "outputs": [
    {
     "name": "stderr",
     "output_type": "stream",
     "text": [
      "WARNING: Wireshark is installed, but cannot read manuf !\n"
     ]
    },
    {
     "name": "stdout",
     "output_type": "stream",
     "text": [
      "La version de Scapy est 2.5.0.\n",
      "\n",
      "L'interface rzo utiliser est : \\Device\\NPF_{CDC9F3F3-0A89-411B-B51B-A448B53B7089}.\n",
      "\n",
      "La table de routage utilisée est : \n",
      " Network          Netmask          Gateway          Iface                                       Output IP        Metric\n",
      "0.0.0.0          0.0.0.0          192.168.126.123  Realtek RTL8821CE 802.11ac PCIe Adapter     192.168.126.232  55    \n",
      "127.0.0.0        255.0.0.0        0.0.0.0          Software Loopback Interface 1               127.0.0.1        331   \n",
      "127.0.0.1        255.255.255.255  0.0.0.0          Software Loopback Interface 1               127.0.0.1        331   \n",
      "127.255.255.255  255.255.255.255  0.0.0.0          Software Loopback Interface 1               127.0.0.1        331   \n",
      "192.168.126.0    255.255.255.0    0.0.0.0          Realtek RTL8821CE 802.11ac PCIe Adapter     192.168.126.232  311   \n",
      "192.168.126.232  255.255.255.255  0.0.0.0          Realtek RTL8821CE 802.11ac PCIe Adapter     192.168.126.232  311   \n",
      "192.168.126.255  255.255.255.255  0.0.0.0          Realtek RTL8821CE 802.11ac PCIe Adapter     192.168.126.232  311   \n",
      "192.168.56.0     255.255.255.0    0.0.0.0          VirtualBox Host-Only Ethernet Adapter       192.168.56.1     281   \n",
      "192.168.56.1     255.255.255.255  0.0.0.0          VirtualBox Host-Only Ethernet Adapter       192.168.56.1     281   \n",
      "192.168.56.255   255.255.255.255  0.0.0.0          VirtualBox Host-Only Ethernet Adapter       192.168.56.1     281   \n",
      "224.0.0.0        240.0.0.0        0.0.0.0          Software Loopback Interface 1               127.0.0.1        331   \n",
      "224.0.0.0        240.0.0.0        0.0.0.0          VirtualBox Host-Only Ethernet Adapter       192.168.56.1     281   \n",
      "224.0.0.0        240.0.0.0        0.0.0.0          ExpressVPN TUN Driver                       169.254.8.68     261   \n",
      "224.0.0.0        240.0.0.0        0.0.0.0          OpenVPN Data Channel Offload                169.254.4.55     281   \n",
      "224.0.0.0        240.0.0.0        0.0.0.0          OpenVPN Data Channel Offload #2             169.254.106.101  281   \n",
      "224.0.0.0        240.0.0.0        0.0.0.0          TAP-Windows Adapter V9                      169.254.201.201  262   \n",
      "224.0.0.0        240.0.0.0        0.0.0.0          TAP-Windows Adapter V9 for OpenVPN Connect  169.254.84.49    257   \n",
      "224.0.0.0        240.0.0.0        0.0.0.0          Realtek RTL8821CE 802.11ac PCIe Adapter     192.168.126.232  311   \n",
      "224.0.0.0        240.0.0.0        0.0.0.0          Microsoft Wi-Fi Direct Virtual Adapter      169.254.26.166   281   \n",
      "224.0.0.0        240.0.0.0        0.0.0.0          Microsoft Wi-Fi Direct Virtual Adapter #2   169.254.200.135  281   \n",
      "255.255.255.255  255.255.255.255  0.0.0.0          Software Loopback Interface 1               127.0.0.1        331   \n",
      "255.255.255.255  255.255.255.255  0.0.0.0          VirtualBox Host-Only Ethernet Adapter       192.168.56.1     281   \n",
      "255.255.255.255  255.255.255.255  0.0.0.0          ExpressVPN TUN Driver                       169.254.8.68     261   \n",
      "255.255.255.255  255.255.255.255  0.0.0.0          OpenVPN Data Channel Offload                169.254.4.55     281   \n",
      "255.255.255.255  255.255.255.255  0.0.0.0          OpenVPN Data Channel Offload #2             169.254.106.101  281   \n",
      "255.255.255.255  255.255.255.255  0.0.0.0          TAP-Windows Adapter V9                      169.254.201.201  262   \n",
      "255.255.255.255  255.255.255.255  0.0.0.0          TAP-Windows Adapter V9 for OpenVPN Connect  169.254.84.49    257   \n",
      "255.255.255.255  255.255.255.255  0.0.0.0          Realtek RTL8821CE 802.11ac PCIe Adapter     192.168.126.232  311   \n",
      "255.255.255.255  255.255.255.255  0.0.0.0          Microsoft Wi-Fi Direct Virtual Adapter      169.254.26.166   281   \n",
      "255.255.255.255  255.255.255.255  0.0.0.0          Microsoft Wi-Fi Direct Virtual Adapter #2   169.254.200.135  281   . \n",
      "\n",
      "\n",
      "La conf est constituer de :\n",
      "  ASN1_default_codec = <ASN1Codec BER[1]>\n",
      "AS_resolver = <scapy.as_resolvers.AS_resolver_multi object at 0x000001E194EE...\n",
      "BTsocket   = <BluetoothRFCommSocket: read/write packets on a connected L2CAP...\n",
      "L2listen   = <L2pcapListenSocket: read packets at layer 2 using libpcap>\n",
      "L2socket   = <L2pcapSocket: read/write packets at layer 2 using only libpcap>\n",
      "L3socket   = <L3pcapSocket: read/write packets at layer 3 using only libpcap>\n",
      "L3socket6  = functools.partial(<L3pcapSocket: read/write packets at layer 3 ...\n",
      "USBsocket  = None\n",
      "auto_crop_tables = True\n",
      "auto_fragment = True\n",
      "bufsize    = 65536\n",
      "cache_pcapiflist = {'\\\\Device\\\\NPF_{32C17FD5-09E1-49D4-AB27-87F970FFEB55}': ...\n",
      "checkIPID  = False\n",
      "checkIPaddr = True\n",
      "checkIPinIP = True\n",
      "checkIPsrc = True\n",
      "check_TCPerror_seqack = False\n",
      "color_theme = <NoTheme>\n",
      "commands   = IPID_count : Identify IP id values classes in a list of packets...\n",
      "contribs   = {}\n",
      "crypto_valid = True\n",
      "crypto_valid_advanced = True\n",
      "debug_dissector = False\n",
      "debug_match = False\n",
      "debug_tls  = False\n",
      "default_l2 = <class 'scapy.packet.Raw'>\n",
      "dot15d4_protocol = None\n",
      "emph       = <Emphasize []>\n",
      "except_filter = ''\n",
      "extensions_paths = '.'\n",
      "fancy_prompt = True\n",
      "filter     = ''\n",
      "geoip_city = None\n",
      "histfile   = 'C:\\\\Users\\\\jader\\\\.scapy_history'\n",
      "iface      = <NetworkInterface_Win Realtek RTL8821CE 802.11ac PCIe Adapter [...\n",
      "ifaces     = Source Index Name MAC IPv4 IPv6 libpcap 1 Software Loopback Int...\n",
      "interactive = False\n",
      "interactive_shell = ''\n",
      "ipv6_enabled = True\n",
      "l2types    = 0x0 -> Loopback (Loopback) 0x1 <- Dot3 (802.3) 0x1 <-> Ether (E...\n",
      "l3types    = 0x3 -> IPv46 (IP) 0x800 <-> IP (IP) 0x806 <-> ARP (ARP) 0x86dd ...\n",
      "layers     = Packet : <member 'name' of 'Packet' objects> NoPayload : <membe...\n",
      "load_layers = ['bluetooth', 'bluetooth4LE', 'dcerpc', 'dhcp', 'dhcp6', 'dns'...\n",
      "logLevel   = 30\n",
      "loopback_name = '\\\\Device\\\\NPF_Loopback'\n",
      "manufdb    = <DADict - 0 elements>\n",
      "mib        = <MIB - 347 elements>\n",
      "min_pkt_size = 60\n",
      "neighbor   = Ether -> LLC Dot3 -> LLC Dot3 -> SNAP Ether -> Dot1Q Ether -> A...\n",
      "netcache   = arp_cache: 0 valid items. Timeout=120s in6_neighbor: 0 valid it...\n",
      "nmap_base  = ''\n",
      "nmap_kdb   = None\n",
      "noenum     = <Resolve []>\n",
      "padding    = 1\n",
      "padding_layer = <class 'scapy.packet.Padding'>\n",
      "prog       = cmd = 'C:\\\\windows\\\\system32\\\\cmd.exe' cscript = 'C:\\\\windows\\\\...\n",
      "promisc    = True\n",
      "prompt     = '>>> '\n",
      "raise_no_dst_mac = False\n",
      "raw_layer  = <class 'scapy.packet.Raw'>\n",
      "raw_summary = False\n",
      "recv_poll_rate = 0.05\n",
      "resolve    = <Resolve []>\n",
      "route      = Network Netmask Gateway Iface Output IP Metric 0.0.0.0 0.0.0.0 ...\n",
      "route6     = Destination Next Hop Iface Src candidates Metric ::1/128 :: Sof...\n",
      "session    = ''\n",
      "sniff_promisc = True\n",
      "stats_classic_protocols = [<class 'scapy.layers.inet.TCP'>, <class 'scapy.la...\n",
      "stats_dot11_protocols = [<class 'scapy.layers.inet.TCP'>, <class 'scapy.laye...\n",
      "stealth    = 'not implemented'\n",
      "temp_files = []\n",
      "teredoPrefix = '2001::'\n",
      "teredoServerPort = 3544\n",
      "use_bpf    = False\n",
      "use_npcap  = True\n",
      "use_pcap   = True\n",
      "use_pypy   = False\n",
      "verb       = 2\n",
      "version    = '2.5.0'\n",
      "warning_threshold = 5\n",
      "wepkey     = ''\n",
      "\n",
      " dans la conf on re sort maintenant la ligne avec la route : Network          Netmask          Gateway          Iface                                       Output IP        Metric\n",
      "0.0.0.0          0.0.0.0          192.168.126.123  Realtek RTL8821CE 802.11ac PCIe Adapter     192.168.126.232  55    \n",
      "127.0.0.0        255.0.0.0        0.0.0.0          Software Loopback Interface 1               127.0.0.1        331   \n",
      "127.0.0.1        255.255.255.255  0.0.0.0          Software Loopback Interface 1               127.0.0.1        331   \n",
      "127.255.255.255  255.255.255.255  0.0.0.0          Software Loopback Interface 1               127.0.0.1        331   \n",
      "192.168.126.0    255.255.255.0    0.0.0.0          Realtek RTL8821CE 802.11ac PCIe Adapter     192.168.126.232  311   \n",
      "192.168.126.232  255.255.255.255  0.0.0.0          Realtek RTL8821CE 802.11ac PCIe Adapter     192.168.126.232  311   \n",
      "192.168.126.255  255.255.255.255  0.0.0.0          Realtek RTL8821CE 802.11ac PCIe Adapter     192.168.126.232  311   \n",
      "192.168.56.0     255.255.255.0    0.0.0.0          VirtualBox Host-Only Ethernet Adapter       192.168.56.1     281   \n",
      "192.168.56.1     255.255.255.255  0.0.0.0          VirtualBox Host-Only Ethernet Adapter       192.168.56.1     281   \n",
      "192.168.56.255   255.255.255.255  0.0.0.0          VirtualBox Host-Only Ethernet Adapter       192.168.56.1     281   \n",
      "224.0.0.0        240.0.0.0        0.0.0.0          Software Loopback Interface 1               127.0.0.1        331   \n",
      "224.0.0.0        240.0.0.0        0.0.0.0          VirtualBox Host-Only Ethernet Adapter       192.168.56.1     281   \n",
      "224.0.0.0        240.0.0.0        0.0.0.0          ExpressVPN TUN Driver                       169.254.8.68     261   \n",
      "224.0.0.0        240.0.0.0        0.0.0.0          OpenVPN Data Channel Offload                169.254.4.55     281   \n",
      "224.0.0.0        240.0.0.0        0.0.0.0          OpenVPN Data Channel Offload #2             169.254.106.101  281   \n",
      "224.0.0.0        240.0.0.0        0.0.0.0          TAP-Windows Adapter V9                      169.254.201.201  262   \n",
      "224.0.0.0        240.0.0.0        0.0.0.0          TAP-Windows Adapter V9 for OpenVPN Connect  169.254.84.49    257   \n",
      "224.0.0.0        240.0.0.0        0.0.0.0          Realtek RTL8821CE 802.11ac PCIe Adapter     192.168.126.232  311   \n",
      "224.0.0.0        240.0.0.0        0.0.0.0          Microsoft Wi-Fi Direct Virtual Adapter      169.254.26.166   281   \n",
      "224.0.0.0        240.0.0.0        0.0.0.0          Microsoft Wi-Fi Direct Virtual Adapter #2   169.254.200.135  281   \n",
      "255.255.255.255  255.255.255.255  0.0.0.0          Software Loopback Interface 1               127.0.0.1        331   \n",
      "255.255.255.255  255.255.255.255  0.0.0.0          VirtualBox Host-Only Ethernet Adapter       192.168.56.1     281   \n",
      "255.255.255.255  255.255.255.255  0.0.0.0          ExpressVPN TUN Driver                       169.254.8.68     261   \n",
      "255.255.255.255  255.255.255.255  0.0.0.0          OpenVPN Data Channel Offload                169.254.4.55     281   \n",
      "255.255.255.255  255.255.255.255  0.0.0.0          OpenVPN Data Channel Offload #2             169.254.106.101  281   \n",
      "255.255.255.255  255.255.255.255  0.0.0.0          TAP-Windows Adapter V9                      169.254.201.201  262   \n",
      "255.255.255.255  255.255.255.255  0.0.0.0          TAP-Windows Adapter V9 for OpenVPN Connect  169.254.84.49    257   \n",
      "255.255.255.255  255.255.255.255  0.0.0.0          Realtek RTL8821CE 802.11ac PCIe Adapter     192.168.126.232  311   \n",
      "255.255.255.255  255.255.255.255  0.0.0.0          Microsoft Wi-Fi Direct Virtual Adapter      169.254.26.166   281   \n",
      "255.255.255.255  255.255.255.255  0.0.0.0          Microsoft Wi-Fi Direct Virtual Adapter #2   169.254.200.135  281    \n",
      "\n",
      "et maintenant on prend la route associer à 0.0.0.0 ('\\\\Device\\\\NPF_{CDC9F3F3-0A89-411B-B51B-A448B53B7089}', '192.168.126.232', '192.168.126.123') \n",
      "\n"
     ]
    }
   ],
   "source": [
    "from scapy.all import *\n",
    "\n",
    "print(f\"La version de Scapy est {conf.version}.\") #permet d'afficher la version de scapy\n",
    "print(f\"\\nL'interface rzo utiliser est : {conf.iface}.\") #permet d'afficher l'interface rzo utiliser\n",
    "print(f\"\\nLa table de routage utilisée est : \\n {conf.route}. \\n\") #ici on affiche la table de routage et on vois donc le nom de la passerel\n",
    "\n",
    "print(f\"\\nLa conf est constituer de :\\n \", conf) #print de toute la conf\n",
    "print('\\n dans la conf on re sort maintenant la ligne avec la route :', conf.route, \"\\n\") #on prend dans le print précédent ce qui est liée a la lgien route\n",
    "print(\"et maintenant on prend la route associer à 0.0.0.0\", conf.route.route(\"0.0.0.0\"), \"\\n\")\n"
   ]
  },
  {
   "cell_type": "code",
   "execution_count": 10,
   "id": "4289cf53-dd2c-4dae-bdeb-881179b4afe1",
   "metadata": {},
   "outputs": [
    {
     "name": "stdout",
     "output_type": "stream",
     "text": [
      "version    : BitField  (4 bits)                  = ('4')\n",
      "ihl        : BitField  (4 bits)                  = ('None')\n",
      "tos        : XByteField                          = ('0')\n",
      "len        : ShortField                          = ('None')\n",
      "id         : ShortField                          = ('1')\n",
      "flags      : FlagsField                          = ('<Flag 0 ()>')\n",
      "frag       : BitField  (13 bits)                 = ('0')\n",
      "ttl        : ByteField                           = ('64')\n",
      "proto      : ByteEnumField                       = ('0')\n",
      "chksum     : XShortField                         = ('None')\n",
      "src        : SourceIPField                       = ('None')\n",
      "dst        : DestIPField                         = ('None')\n",
      "options    : PacketListField                     = ('[]')\n"
     ]
    }
   ],
   "source": [
    "ls(IP) #commande linux ls + on affiche toute la partie liée à ip"
   ]
  },
  {
   "cell_type": "code",
   "execution_count": 11,
   "id": "0bd62eda-e2bd-4b8d-aec7-382f08a865b5",
   "metadata": {},
   "outputs": [
    {
     "data": {
      "text/plain": [
       "'IP / UDP 127.0.0.1:domain > 127.0.0.1:domain'"
      ]
     },
     "execution_count": 11,
     "metadata": {},
     "output_type": "execute_result"
    }
   ],
   "source": [
    "paquet1=IP()/UDP() #on creer un paquet avec une ip par default et un numéro de port\n",
    "paquet1.summary() #on affiche un résumer du contenu du paquet"
   ]
  },
  {
   "cell_type": "code",
   "execution_count": 12,
   "id": "4b69e7ed-017c-4c55-968c-e9b609d7ccc6",
   "metadata": {},
   "outputs": [
    {
     "name": "stdout",
     "output_type": "stream",
     "text": [
      "###[ IP ]### \n",
      "  version   = 4\n",
      "  ihl       = None\n",
      "  tos       = 0x0\n",
      "  len       = None\n",
      "  id        = 1\n",
      "  flags     = \n",
      "  frag      = 0\n",
      "  ttl       = 64\n",
      "  proto     = udp\n",
      "  chksum    = None\n",
      "  src       = 127.0.0.1\n",
      "  dst       = 127.0.0.1\n",
      "  \\options   \\\n",
      "###[ UDP ]### \n",
      "     sport     = domain\n",
      "     dport     = domain\n",
      "     len       = None\n",
      "     chksum    = None\n",
      "\n"
     ]
    }
   ],
   "source": [
    "paquet1.show() #on print le détail du paquet"
   ]
  },
  {
   "cell_type": "code",
   "execution_count": 13,
   "id": "3833169c-6217-4dbd-b911-6913acce0ec6",
   "metadata": {},
   "outputs": [
    {
     "name": "stdout",
     "output_type": "stream",
     "text": [
      "on print simplement le paquet2 :\n",
      "\n",
      "###[ IP ]### \n",
      "  version   = 4\n",
      "  ihl       = None\n",
      "  tos       = 0x0\n",
      "  len       = None\n",
      "  id        = 1\n",
      "  flags     = \n",
      "  frag      = 0\n",
      "  ttl       = 64\n",
      "  proto     = udp\n",
      "  chksum    = None\n",
      "  src       = 192.168.1.1\n",
      "  dst       = 192.168.1.254\n",
      "  \\options   \\\n",
      "###[ UDP ]### \n",
      "     sport     = domain\n",
      "     dport     = domain\n",
      "     len       = None\n",
      "     chksum    = None\n",
      "\n",
      "on print avec toutes les valeur le paquet2 : \n",
      "###[ IP ]### \n",
      "  version   = 4\n",
      "  ihl       = 5\n",
      "  tos       = 0x0\n",
      "  len       = 28\n",
      "  id        = 1\n",
      "  flags     = \n",
      "  frag      = 0\n",
      "  ttl       = 64\n",
      "  proto     = udp\n",
      "  chksum    = 0xf680\n",
      "  src       = 192.168.1.1\n",
      "  dst       = 192.168.1.254\n",
      "  \\options   \\\n",
      "###[ UDP ]### \n",
      "     sport     = domain\n",
      "     dport     = domain\n",
      "     len       = 8\n",
      "     chksum    = 0x7b24\n",
      "\n"
     ]
    }
   ],
   "source": [
    "IPs='192.168.1.1'\n",
    "IPd='192.168.1.254'\n",
    "paquet2=IP(src=IPs, dst=IPd)/UDP()\n",
    "print(\"on print simplement le paquet2 :\\n\") #on print le paquet mais il y a des \"none\"\n",
    "paquet2.show()\n",
    "\n",
    "print(\"on print avec toutes les valeur le paquet2 : \") # avec show 2 les valeur en \"none\" précédement apparaisent\n",
    "paquet2.show2()"
   ]
  },
  {
   "cell_type": "code",
   "execution_count": 14,
   "id": "9e2385d3-e90a-4fe2-8269-f74e804b6c48",
   "metadata": {},
   "outputs": [
    {
     "name": "stdout",
     "output_type": "stream",
     "text": [
      "on print la trame détaillé : \n",
      "\n",
      "###[ Ethernet ]### \n",
      "  dst       = 00:0a:1f:3b:4e:64\n",
      "  src       = 11:22:33:44:55:66\n",
      "  type      = IPv4\n",
      "###[ IP ]### \n",
      "     version   = 4\n",
      "     ihl       = 5\n",
      "     tos       = 0x0\n",
      "     len       = 65\n",
      "     id        = 1\n",
      "     flags     = \n",
      "     frag      = 0\n",
      "     ttl       = 64\n",
      "     proto     = tcp\n",
      "     chksum    = 0xf762\n",
      "     src       = 192.168.1.1\n",
      "     dst       = 192.168.1.2\n",
      "     \\options   \\\n",
      "###[ TCP ]### \n",
      "        sport     = ftp_data\n",
      "        dport     = http\n",
      "        seq       = 0\n",
      "        ack       = 0\n",
      "        dataofs   = 5\n",
      "        reserved  = 0\n",
      "        flags     = SA\n",
      "        window    = 8192\n",
      "        chksum    = 0x15d5\n",
      "        urgptr    = 0\n",
      "        options   = []\n",
      "###[ Raw ]### \n",
      "           load      = \"C'est vraiment bien Scapy\"\n",
      "\n"
     ]
    }
   ],
   "source": [
    "MACs='11:22:33:44:55:66'\n",
    "MACd='00:0A:1F:3B:4E:64'\n",
    "IPs='192.168.1.1'\n",
    "IPd='www.univ-pau.fr'\n",
    "frm = Ether(src=MACs, dst=MACd) / IP(src=IPs, dst=\"192.168.1.2\") / TCP(flags='SA') / \"C'est vraiment bien Scapy\"\n",
    "#on cree un paquet appeler \"frm\" composé de : d'une partie de la couche 2 avec pour @MAC les @Mac associer précédement\n",
    "#puis sur la couche ip on met les IP souhaiter puis en tcp on met les flags correspondant à SYN-ACK\n",
    "\n",
    "#print(\"on print la trame : \\n\")\n",
    "#frm.show()\n",
    "\n",
    "print(\"on print la trame détaillé : \\n\")\n",
    "frm.show2()\n"
   ]
  },
  {
   "cell_type": "code",
   "execution_count": 15,
   "id": "3d30c4af-4d1e-4450-8a1b-75aef21a96a9",
   "metadata": {},
   "outputs": [
    {
     "name": "stdout",
     "output_type": "stream",
     "text": [
      "La capture comprend les paquets suivants :\n",
      "\n",
      "Ether / IP / ICMP 192.168.1.48 > 8.8.8.8 echo-request 0 / Raw\n",
      "Ether / IP / ICMP 8.8.8.8 > 192.168.1.48 echo-reply 0 / Raw\n",
      "Ether / IP / ICMP 192.168.1.48 > 8.8.8.8 echo-request 0 / Raw\n",
      "Ether / IP / ICMP 8.8.8.8 > 192.168.1.48 echo-reply 0 / Raw\n"
     ]
    }
   ],
   "source": [
    "#charger un fichier : \n",
    "\n",
    "trames=rdpcap(\"Ping_Google.pcapng\")#on associe la tram au fichier souhaiter au fichier de la trame\n",
    "print(\"La capture comprend les paquets suivants :\\n\")\n",
    "trames.summary()# on print un résumer du contenue de la trame"
   ]
  },
  {
   "cell_type": "code",
   "execution_count": 16,
   "id": "6e0044ba",
   "metadata": {},
   "outputs": [
    {
     "data": {
      "text/plain": [
       "'chef de departement'"
      ]
     },
     "execution_count": 16,
     "metadata": {},
     "output_type": "execute_result"
    }
   ],
   "source": [
    "#obtenir la valeur du champ d'un paquet\n",
    "\n",
    "RT={'Siami' : 'chef de departement', 'Bascou' :'enseignant', 'Rivenq' :'secretaire' }\n",
    "#^ creation du dictionaire \n",
    "RT['Siami']\n",
    "#^ ici on demande dans le paquet RT de trouver a quoi correspont l'association de \"siami\""
   ]
  },
  {
   "cell_type": "code",
   "execution_count": 17,
   "id": "86321911",
   "metadata": {},
   "outputs": [
    {
     "name": "stdout",
     "output_type": "stream",
     "text": [
      "les noms sont : \n",
      "Siami\n",
      "Bascou\n",
      "Rivenq\n",
      "Gallon\n",
      "\n",
      " les les indices asscoier au no dans rt sont :\n",
      "chef de departement\n",
      "enseignant\n",
      "secretaire\n",
      "enseignant\n",
      "\n",
      " on as donc :\n",
      "Mr Siami est chef de departement au département R&T de l'IUT de Mont de Marsan\n",
      "Mr Bascou est enseignant au département R&T de l'IUT de Mont de Marsan\n",
      "Mr Rivenq est secretaire au département R&T de l'IUT de Mont de Marsan\n",
      "Mr Gallon est enseignant au département R&T de l'IUT de Mont de Marsan\n"
     ]
    },
    {
     "data": {
      "text/plain": [
       "[None, None, None, None]"
      ]
     },
     "execution_count": 17,
     "metadata": {},
     "output_type": "execute_result"
    }
   ],
   "source": [
    "RT['Gallon']='enseignant' #on associe \"gallon\" a une nouvelle valeur d'enseignant\n",
    "#ici on affiche tout les nos association \n",
    "\n",
    "print(\"les noms sont : \")\n",
    "[print(f\"{nom}\") for nom in RT]\n",
    "print(\"\\n les les indices asscoier au no dans rt sont :\")\n",
    "[print(f\"{RT[nom]}\") for nom in RT]\n",
    "\n",
    "print(\"\\n on as donc :\")\n",
    "[print(f\"Mr {nom} est {RT[nom]} au département R&T de l'IUT de Mont de Marsan\") for nom in RT]\n",
    "\n"
   ]
  },
  {
   "cell_type": "code",
   "execution_count": 18,
   "id": "762d0963",
   "metadata": {},
   "outputs": [
    {
     "data": {
      "text/plain": [
       "'DE 1ere annee de BUT'"
      ]
     },
     "execution_count": 18,
     "metadata": {},
     "output_type": "execute_result"
    }
   ],
   "source": [
    "RT={'Siami' : {'fonction' : 'chef de departement', 'année de recutement' :2002, \\\n",
    "               'Enseignant en' : 'Electronique, Programmation'},\n",
    "               'Bascou' : {'fonction' : 'DE 1ere annee de BUT', 'année de recutement' :2000, \\\n",
    "                           'Enseignant en' : 'Réseaux'}}\n",
    "\n",
    "RT['Bascou']['fonction']"
   ]
  },
  {
   "cell_type": "code",
   "execution_count": 19,
   "id": "284b215c",
   "metadata": {},
   "outputs": [
    {
     "name": "stdout",
     "output_type": "stream",
     "text": [
      "La premiere trame est la suivante :\n"
     ]
    },
    {
     "data": {
      "text/plain": [
       "<Ether  dst=f4:ca:e5:5d:b5:c8 src=8c:85:90:c5:71:56 type=IPv4 |<IP  version=4 ihl=5 tos=0x0 len=84 id=3173 flags= frag=0 ttl=64 proto=icmp chksum=0x9c5c src=192.168.1.48 dst=8.8.8.8 |<ICMP  type=echo-request code=0 chksum=0xf4cc id=0x5662 seq=0x0 unused='' |<Raw  load='a\\\\xc0\\\\xbd\\\\xd2\\x00\\x05\\\\xa25\\x08\\t\\n\\x0b\\x0c\\r\\x0e\\x0f\\x10\\x11\\x12\\x13\\x14\\x15\\x16\\x17\\x18\\x19\\x1a\\x1b\\x1c\\x1d\\x1e\\x1f !\"#$%&\\'()*+,-./01234567' |>>>>"
      ]
     },
     "execution_count": 19,
     "metadata": {},
     "output_type": "execute_result"
    }
   ],
   "source": [
    "print('La premiere trame est la suivante :')\n",
    "trames[0] #correspond a la première trame en haut de wireshark"
   ]
  },
  {
   "cell_type": "code",
   "execution_count": 20,
   "id": "64cc7b0a",
   "metadata": {},
   "outputs": [
    {
     "data": {
      "text/plain": [
       "<IP  version=4 ihl=5 tos=0x0 len=84 id=7714 flags= frag=0 ttl=64 proto=icmp chksum=0x8a9f src=192.168.1.48 dst=8.8.8.8 |<ICMP  type=echo-request code=0 chksum=0xe086 id=0x5662 seq=0x1 unused='' |<Raw  load='a\\\\xc0\\\\xbd\\\\xd3\\x00\\x05\\\\xb6y\\x08\\t\\n\\x0b\\x0c\\r\\x0e\\x0f\\x10\\x11\\x12\\x13\\x14\\x15\\x16\\x17\\x18\\x19\\x1a\\x1b\\x1c\\x1d\\x1e\\x1f !\"#$%&\\'()*+,-./01234567' |>>>"
      ]
     },
     "execution_count": 20,
     "metadata": {},
     "output_type": "execute_result"
    }
   ],
   "source": [
    "trames[2]['IP'] #on obtient la trame IP via le nom de la chaine de caractère \"IP\""
   ]
  },
  {
   "cell_type": "code",
   "execution_count": 21,
   "id": "b2b74970",
   "metadata": {},
   "outputs": [
    {
     "data": {
      "text/plain": [
       "<IP  version=4 ihl=5 tos=0x0 len=84 id=7714 flags= frag=0 ttl=64 proto=icmp chksum=0x8a9f src=192.168.1.48 dst=8.8.8.8 |<ICMP  type=echo-request code=0 chksum=0xe086 id=0x5662 seq=0x1 unused='' |<Raw  load='a\\\\xc0\\\\xbd\\\\xd3\\x00\\x05\\\\xb6y\\x08\\t\\n\\x0b\\x0c\\r\\x0e\\x0f\\x10\\x11\\x12\\x13\\x14\\x15\\x16\\x17\\x18\\x19\\x1a\\x1b\\x1c\\x1d\\x1e\\x1f !\"#$%&\\'()*+,-./01234567' |>>>"
      ]
     },
     "execution_count": 21,
     "metadata": {},
     "output_type": "execute_result"
    }
   ],
   "source": [
    "trames[2][IP] #ici on la sort via le protocole connue par scapy"
   ]
  },
  {
   "cell_type": "code",
   "execution_count": 22,
   "id": "50c3063b",
   "metadata": {},
   "outputs": [
    {
     "data": {
      "text/plain": [
       "'8.8.8.8'"
      ]
     },
     "execution_count": 22,
     "metadata": {},
     "output_type": "execute_result"
    }
   ],
   "source": [
    "trames[2][IP].dst #ici dans la trame ci dessus ont sort d'@ src"
   ]
  },
  {
   "cell_type": "code",
   "execution_count": 23,
   "id": "10df411f",
   "metadata": {},
   "outputs": [
    {
     "data": {
      "text/plain": [
       "b'a\\xc0\\xbd\\xd3\\x00\\x05\\xb6y\\x08\\t\\n\\x0b\\x0c\\r\\x0e\\x0f\\x10\\x11\\x12\\x13\\x14\\x15\\x16\\x17\\x18\\x19\\x1a\\x1b\\x1c\\x1d\\x1e\\x1f !\"#$%&\\'()*+,-./01234567'"
      ]
     },
     "execution_count": 23,
     "metadata": {},
     "output_type": "execute_result"
    }
   ],
   "source": [
    "#Certains protocoles (généralement applicatifs) ne sont pas décodés par Scapy. Les données sont \n",
    "#alors des données brutes indiqué par le mot clé “Raw” et ce sont des bytes notés b”. C’est par\n",
    "#exemple le cas du contenu du paquet ICMP :\n",
    "\n",
    "trames[2][Raw].load"
   ]
  },
  {
   "cell_type": "code",
   "execution_count": 24,
   "id": "c8b1c13d",
   "metadata": {},
   "outputs": [
    {
     "data": {
      "text/plain": [
       "[b'a\\xc0\\xbd\\xd3\\x00\\x05\\xb6y\\x08',\n",
       " b'\\x0e\\x0f\\x10\\x11\\x12\\x13\\x14\\x15\\x16\\x17\\x18\\x19\\x1a\\x1b\\x1c\\x1d\\x1e\\x1f',\n",
       " b'!\"#$%&\\'()*+,-./01234567']"
      ]
     },
     "execution_count": 24,
     "metadata": {},
     "output_type": "execute_result"
    }
   ],
   "source": [
    "trames[2][Raw].load.split(sep=None)\n",
    "#la mm trame que précédement mais la elle est séparer par des \"none\""
   ]
  },
  {
   "cell_type": "code",
   "execution_count": 25,
   "id": "fd3da0b7",
   "metadata": {},
   "outputs": [
    {
     "data": {
      "text/plain": [
       "b'!\"#$%&\\'()*+,-./01234567'"
      ]
     },
     "execution_count": 25,
     "metadata": {},
     "output_type": "execute_result"
    }
   ],
   "source": [
    "trames[2][Raw].load.split(sep=None)[2]\n",
    "#mm que au dessus sauf qu'ici on prend la partie d'indice 2 (la dernière) de la liste\n",
    "#Il s’agit d’un contenu hexadécimal noté b” "
   ]
  },
  {
   "cell_type": "code",
   "execution_count": 26,
   "id": "5b1d0cd2",
   "metadata": {},
   "outputs": [
    {
     "data": {
      "text/plain": [
       "'!\"#$%&\\'()*+,-./01234567'"
      ]
     },
     "execution_count": 26,
     "metadata": {},
     "output_type": "execute_result"
    }
   ],
   "source": [
    "#on peut donc le décoder en indiquant le format\n",
    "#d’encodage (par défaut on prendra UTF8) pour obtenir la chaîne de caratères correspondante :\n",
    "trames[2][Raw].load.split(sep=None)[2].decode('UTF8')"
   ]
  },
  {
   "cell_type": "code",
   "execution_count": 27,
   "id": "b16ccb7c",
   "metadata": {},
   "outputs": [
    {
     "name": "stdout",
     "output_type": "stream",
     "text": [
      "\n",
      "Sent 1 packets.\n"
     ]
    }
   ],
   "source": [
    "# emettre paquet et trame : \n",
    "ping=IP(dst='10.2.12.4')/ICMP()/\"On peut ajouter ici des données à émettre avec le ping\"\n",
    "send(ping)\n"
   ]
  },
  {
   "cell_type": "code",
   "execution_count": 28,
   "id": "58f23c6c",
   "metadata": {},
   "outputs": [
    {
     "name": "stdout",
     "output_type": "stream",
     "text": [
      "\n",
      "Sent 1 packets.\n"
     ]
    }
   ],
   "source": [
    "trameping=Ether()/IP(dst='194.167.156.135')/ICMP()/\"On peut ajouter ici des données à␣ émettre avec le ping\"\n",
    "sendp(trameping, iface=\"Wi-Fi\") #on envois le paquet créé ci dessus sur l'interface wifi de notre apareil"
   ]
  },
  {
   "cell_type": "code",
   "execution_count": 3,
   "id": "ddc4d80d",
   "metadata": {},
   "outputs": [
    {
     "name": "stdout",
     "output_type": "stream",
     "text": [
      "###[ IP ]### \n",
      "  version   = 4\n",
      "  ihl       = None\n",
      "  tos       = 0x0\n",
      "  len       = None\n",
      "  id        = 1\n",
      "  flags     = \n",
      "  frag      = 0\n",
      "  ttl       = 64\n",
      "  proto     = icmp\n",
      "  chksum    = None\n",
      "  src       = 192.168.213.232\n",
      "  dst       = 194.167.156.13\n",
      "  \\options   \\\n",
      "###[ ICMP ]### \n",
      "     type      = echo-request\n",
      "     code      = 0\n",
      "     chksum    = None\n",
      "     id        = 0x0\n",
      "     seq       = 0x0\n",
      "     unused    = ''\n",
      "\n",
      "Begin emission:\n",
      "Finished sending 1 packets.\n",
      "\n",
      "Received 297 packets, got 0 answers, remaining 1 packets\n"
     ]
    },
    {
     "data": {
      "text/plain": [
       "(<Results: TCP:0 UDP:0 ICMP:0 Other:0>,\n",
       " <Unanswered: TCP:0 UDP:0 ICMP:1 Other:0>)"
      ]
     },
     "execution_count": 3,
     "metadata": {},
     "output_type": "execute_result"
    }
   ],
   "source": [
    "ping=IP(dst='194.167.156.13')/ICMP()\n",
    "sr(ping) #envoi le paquet et attend une réponse"
   ]
  },
  {
   "cell_type": "code",
   "execution_count": 4,
   "id": "8d3984f0",
   "metadata": {},
   "outputs": [
    {
     "name": "stdout",
     "output_type": "stream",
     "text": [
      "fail 1: IP / ICMP 192.168.126.232 > 194.167.156.135 echo-request 0 / Raw\n",
      "fail 1:  IP / ICMP 192.168.126.232 > 194.167.156.135 echo-request 0 / Raw\n",
      "fail 1:  IP / ICMP 192.168.126.232 > 194.167.156.135 echo-request 0 / Raw\n",
      "fail 1:  IP / ICMP 192.168.126.232 > 194.167.156.135 echo-request 0 / Raw\n",
      "fail 1:  IP / ICMP 192.168.126.232 > 194.167.156.135 echo-request 0 / Raw\n",
      "fail 1:  IP / ICMP 192.168.126.232 > 194.167.156.135 echo-request 0 / Raw\n",
      "fail 1:  IP / ICMP 192.168.126.232 > 194.167.156.135 echo-request 0 / Raw\n",
      "fail 1:  IP / ICMP 192.168.126.232 > 194.167.156.135 echo-request 0 / Raw\n",
      "fail 1:  IP / ICMP 192.168.126.232 > 194.167.156.135 echo-request 0 / Raw\n",
      "fail 1:  IP / ICMP 192.168.126.232 > 194.167.156.135 echo-request 0 / Raw\n",
      "        \n",
      "Sent 10 packets, received 0 packets. 0.0% hits.\n"
     ]
    }
   ],
   "source": [
    "ping=IP(dst='194.167.156.135')/ICMP()/\"On peut ajouter ici des données à émettre avec le ping\"\n",
    "ok, nonok = srloop(ping, count=10, inter=1)"
   ]
  },
  {
   "cell_type": "code",
   "execution_count": 5,
   "id": "ac552fc5",
   "metadata": {},
   "outputs": [
    {
     "data": {
      "text/plain": [
       "<Results: TCP:0 UDP:0 ICMP:0 Other:0>"
      ]
     },
     "execution_count": 5,
     "metadata": {},
     "output_type": "execute_result"
    }
   ],
   "source": [
    "ok"
   ]
  },
  {
   "cell_type": "code",
   "execution_count": null,
   "metadata": {},
   "outputs": [],
   "source": [
    "\n"
   ]
  },
  {
   "cell_type": "code",
   "execution_count": null,
   "id": "fa9a252e",
   "metadata": {},
   "outputs": [],
   "source": []
  }
 ],
 "metadata": {
  "kernelspec": {
   "display_name": "Python 3 (ipykernel)",
   "language": "python",
   "name": "python3"
  },
  "language_info": {
   "codemirror_mode": {
    "name": "ipython",
    "version": 3
   },
   "file_extension": ".py",
   "mimetype": "text/x-python",
   "name": "python",
   "nbconvert_exporter": "python",
   "pygments_lexer": "ipython3",
   "version": "3.11.6"
  }
 },
 "nbformat": 4,
 "nbformat_minor": 5
}
