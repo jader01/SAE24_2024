{
 "cells": [
  {
   "cell_type": "markdown",
   "metadata": {},
   "source": [
    "creation de chaine de caratère : "
   ]
  },
  {
   "cell_type": "code",
   "execution_count": 5,
   "metadata": {},
   "outputs": [
    {
     "name": "stdout",
     "output_type": "stream",
     "text": [
      "pour gérer l'apostrophe ...\n",
      "pour gérer les \"guillemets\" anglais\n"
     ]
    }
   ],
   "source": [
    "from scapy.all import *\n",
    "\n",
    "chaine1=\"pour gérer l'apostrophe ...\" \n",
    "chaine2='pour gérer les \"guillemets\" anglais' \n",
    "print(chaine1)\n",
    "print(chaine2)"
   ]
  },
  {
   "cell_type": "markdown",
   "metadata": {},
   "source": [
    "gestion de la chaine de caractère comme un tableau : "
   ]
  },
  {
   "cell_type": "code",
   "execution_count": 9,
   "metadata": {},
   "outputs": [
    {
     "name": "stdout",
     "output_type": "stream",
     "text": [
      "ici on affiche la longeur de la chaine\n",
      "29\n",
      "\n",
      " ici on affiche la chaine en entier :\n",
      "Il fait beau pour la saison !\n",
      "\n",
      "I\n",
      "l\n",
      "b\n",
      "\n",
      "!\n"
     ]
    }
   ],
   "source": [
    "chaine=\"Il fait beau pour la saison !\"  #creation de la chaine\n",
    "\n",
    "# La fonction \"len\" retourne la longueur de la chaîne: \n",
    "print('ici on affiche la longeur de la chaine')\n",
    "print(len(chaine)) \n",
    "\n",
    "print('\\n ici on affiche la chaine en entier :')\n",
    "print(chaine) \n",
    "\n",
    "# On saute une ligne avec un print() \"vide\"\n",
    "\n",
    "print() # On affiche quelques caractères, sachant que le premier caractère a l'index 0: \n",
    "\n",
    "print(chaine[0]) \n",
    "\n",
    "print(chaine[1]) \n",
    "\n",
    "print(chaine[8]) \n",
    "\n",
    "print() \n",
    "# Le dernier caractère a le rang correspondant à la (longueur de la chaîne-1)\n",
    "print(chaine[len(chaine)-1])"
   ]
  },
  {
   "cell_type": "markdown",
   "metadata": {},
   "source": [
    "a noter que ci dessus chaque lettre est égale a une valeur de la chaine (première l'ettre = 0) \n",
    "et pour la dernière font fait : print(chaine[len(chaine)-1])"
   ]
  },
  {
   "cell_type": "markdown",
   "metadata": {},
   "source": [
    "On peut additionner deux chaine de caractère : "
   ]
  },
  {
   "cell_type": "code",
   "execution_count": 13,
   "metadata": {},
   "outputs": [
    {
     "name": "stdout",
     "output_type": "stream",
     "text": [
      "voici le début\n",
      "voilà la fin\n",
      "addition des deux chaine\n",
      "voici le débutvoilà la fin\n"
     ]
    }
   ],
   "source": [
    "ch1 = \"voici le début\" \n",
    "ch2 = \"voilà la fin\" \n",
    "ch = ch1 + ch2 \n",
    "\n",
    "print(ch1) \n",
    "\n",
    "print(ch2) \n",
    "\n",
    "print('addition des deux chaine')\n",
    "print(ch)"
   ]
  },
  {
   "cell_type": "markdown",
   "metadata": {},
   "source": [
    "La différence entre les caractère et le type entier :"
   ]
  },
  {
   "cell_type": "code",
   "execution_count": 17,
   "metadata": {},
   "outputs": [
    {
     "name": "stdout",
     "output_type": "stream",
     "text": [
      "voici l adition des nombre sous forme d entier :\n",
      "8\n",
      "\n",
      " voici l adition (la mise a la suite) des deux caractère sous forme de texte\n",
      "35\n",
      "\n",
      "ici on associe le texte entrer ci dessus a des entier via la fonction int()\n",
      "8\n"
     ]
    }
   ],
   "source": [
    "# a et b sont créées et initialisées comme des ENTIERS \n",
    "a=3 \n",
    "b=5 \n",
    "print('voici l adition des nombre sous forme d entier :')\n",
    "print(a+b) \n",
    "\n",
    "# a et b sont créées et initialisées comme des CARACTÈRES (ou des chaînes de 1␣ →seul caractère, ce qui est pareil) \n",
    "a='3'\n",
    "b='5' \n",
    "print ('\\n voici l adition (la mise a la suite) des deux caractère sous forme de texte')\n",
    "print(a+b) \n",
    "\n",
    "# la fonction int() transforme une caractère en entier ... \n",
    "print(\"\\nici on associe le texte entrer ci dessus a des entier via la fonction int()\")\n",
    "print(int(a)+int(b))"
   ]
  },
  {
   "cell_type": "markdown",
   "metadata": {},
   "source": [
    "- Pour deux entiers, le signe “+” signifie “addition” (la somme est faite avant de l’afficher)\n",
    "- Pour deux chaînes, le signe “+” signifie “concaténation” (les deux chaînes sont concaténées avant d’afficher le résultat"
   ]
  },
  {
   "cell_type": "markdown",
   "metadata": {},
   "source": [
    "Comme vue ci dessus on as donc : "
   ]
  },
  {
   "cell_type": "code",
   "execution_count": 18,
   "metadata": {},
   "outputs": [
    {
     "name": "stdout",
     "output_type": "stream",
     "text": [
      "La somme des deux entiers est: 8\n",
      "La somme des deux chaînes est: 35\n",
      "La somme des deux chaînes converties en entiers est: 8\n"
     ]
    }
   ],
   "source": [
    "# a et b sont créées et initialisées comme des ENTIERS \n",
    "a=3 \n",
    "b=5 \n",
    "print(f'La somme des deux entiers est: {a+b}')\n",
    "\n",
    "# a et b sont créées et initialisées comme des CARACTÈRES (ou des chaînes de 1␣ →seul caractère, ce qui est pareil) \n",
    "a='3' \n",
    "b='5' \n",
    "print(f\"La somme des deux chaînes est: {a+b}\") \n",
    "\n",
    "# la fonction int() transforme une caractère en entier ... \n",
    "print(f'La somme des deux chaînes converties en entiers est: {int(a)+int(b)}')"
   ]
  },
  {
   "cell_type": "markdown",
   "metadata": {},
   "source": [
    "Pour A dans l'exemple ci desous on vois avec {ord(\"A)} que sa valeur décimal est 65 \n",
    "et avec {hex(ord(\"A\"))} on vois que sa valeur en hexa est de 41 :"
   ]
  },
  {
   "cell_type": "code",
   "execution_count": 21,
   "metadata": {},
   "outputs": [
    {
     "name": "stdout",
     "output_type": "stream",
     "text": [
      "le code ASCII de A est 65, soit 0x41 en hexa\n",
      "le code ASCII de 5 est 53, soit 0x35 en hexa\n",
      "le code ASCII de 3 est 51, soit 0x33 en hexa\n",
      "le code ASCII de Z est 90, soit 0x5a en hexa\n"
     ]
    }
   ],
   "source": [
    "# Voici le code ASCII affiché en décimal et en hexadécimal de plusieurs␣ →caractères:\n",
    "\n",
    "print(f'le code ASCII de A est {ord(\"A\")}, soit {hex(ord(\"A\"))} en hexa')\n",
    "print(f\"le code ASCII de 5 est {ord('5')}, soit {hex(ord('5'))} en hexa\")\n",
    "a='3' \n",
    "b='Z' \n",
    "print(f'le code ASCII de {a} est {ord(a)}, soit {hex(ord(a))} en hexa')\n",
    "print(f'le code ASCII de {b} est {ord(b)}, soit {hex(ord(b))} en hexa')\n"
   ]
  },
  {
   "cell_type": "code",
   "execution_count": 23,
   "metadata": {},
   "outputs": [
    {
     "name": "stdout",
     "output_type": "stream",
     "text": [
      "Tête brûlée\n",
      "La longueur de chaineA est: 11\n",
      "\n"
     ]
    }
   ],
   "source": [
    "#La chaîne A est initialisée en tant que \"tableau de caractères\" \n",
    "chaineA = 'Tête brûlée' \n",
    "print(chaineA) \n",
    "print(f'La longueur de chaineA est: {len(chaineA)}') \n",
    "print()"
   ]
  },
  {
   "cell_type": "markdown",
   "metadata": {},
   "source": []
  },
  {
   "cell_type": "markdown",
   "metadata": {},
   "source": [
    "La chaîne B est initialisée en tant que \"tableau d'octets\" grâce à la méthode␣ →encode() qui permet # tout simplement de convertir le TYPE de chaineA de \"tableau de caractères\" en␣ →\"tableau d'octets\", # sans rien changer au contenu # A SAVOIR: Comme Python utilise UTF8 par défaut, decode() est équivalent à␣ →decode('utf8')"
   ]
  },
  {
   "cell_type": "code",
   "execution_count": 25,
   "metadata": {},
   "outputs": [
    {
     "name": "stdout",
     "output_type": "stream",
     "text": [
      "b'T\\xc3\\xaate br\\xc3\\xbbl\\xc3\\xa9e'\n",
      "La longueur de chaineB est: 14\n"
     ]
    }
   ],
   "source": [
    "chaineB = chaineA.encode()\n",
    "print(chaineB)\n",
    "print(f'La longueur de chaineB est: {len(chaineB)}')"
   ]
  },
  {
   "cell_type": "markdown",
   "metadata": {},
   "source": [
    "AFIN D’EVITER TOUTE AMBIGUITE, l’affichage d’un tableau d’octets commence TOUJOURS par la lettre “b” suivie d’une apostrophe."
   ]
  },
  {
   "cell_type": "code",
   "execution_count": 31,
   "metadata": {},
   "outputs": [
    {
     "name": "stdout",
     "output_type": "stream",
     "text": [
      "la chaine A 1 :\n",
      "Chaine A1: ceci est un message simple de longueur: 26\n",
      "\n",
      " la chaine B1 qui correspond a la chaine A1 encode :\n",
      "Chaine B1: b'ceci est un message simple' de longueur: 26\n",
      "_____________\n",
      "la chaine A2 :\n",
      "Chaine A2: éàêçèîâûïö de longueur: 10\n",
      "\n",
      " la chaine B2 qui correspond a la chaine A2 encode :\n",
      "Chaine B2: b'\\xc3\\xa9\\xc3\\xa0\\xc3\\xaa\\xc3\\xa7\\xc3\\xa8\\xc3\\xae\\xc3\\xa2\\xc3\\xbb\\xc3\\xaf\\xc3\\xb6' de longueur: 20\n"
     ]
    }
   ],
   "source": [
    "#Les chaînes A1 et A2 sont initialisées en tant que \"tableau de caractères\" \n",
    "chaineA1 = 'ceci est un message simple' \n",
    "chaineA2 = 'éàêçèîâûïö' \n",
    "\n",
    "#Les chaînes B1 et B2 sont initialisées en tant que \"tableau d'octets\" \n",
    "chaineB1 = chaineA1.encode() \n",
    "chaineB2 = chaineA2.encode() \n",
    "print('la chaine A 1 :')\n",
    "print(f'Chaine A1: {chaineA1} de longueur: {len(chaineA1)}')\n",
    "print('\\n la chaine B1 qui correspond a la chaine A1 encode :') \n",
    "print(f'Chaine B1: {chaineB1} de longueur: {len(chaineB1)}') \n",
    "\n",
    "\n",
    "print('_____________')\n",
    "\n",
    "print('la chaine A2 :')\n",
    "print(f'Chaine A2: {chaineA2} de longueur: {len(chaineA2)}') \n",
    "print('\\n la chaine B2 qui correspond a la chaine A2 encode :') \n",
    "print(f'Chaine B2: {chaineB2} de longueur: {len(chaineB2)}')"
   ]
  }
 ],
 "metadata": {
  "kernelspec": {
   "display_name": "base",
   "language": "python",
   "name": "python3"
  },
  "language_info": {
   "codemirror_mode": {
    "name": "ipython",
    "version": 3
   },
   "file_extension": ".py",
   "mimetype": "text/x-python",
   "name": "python",
   "nbconvert_exporter": "python",
   "pygments_lexer": "ipython3",
   "version": "3.11.6"
  }
 },
 "nbformat": 4,
 "nbformat_minor": 2
}
