{
 "cells": [
  {
   "cell_type": "code",
   "execution_count": 2,
   "metadata": {},
   "outputs": [
    {
     "name": "stdout",
     "output_type": "stream",
     "text": [
      "Lecture du contenu du fichier Texte.txt qui est un fichier au format␣ ↪texte :\n",
      "\n",
      "READ:\n",
      "Ceci est un exemple de fichier texte. \n",
      "Son objectif est de démontrer les différentes possibilités offertes par Python pour accéder à son contenu. \n",
      "Un fichier texte ne contient par définition QUE des caractères affichables. \n",
      "\n",
      "Les caractères affichables incluent également les caractères de tabulation, de fin de ligne, ou autres caractères spéciaux considérés néanmoins comme affichables.\n"
     ]
    }
   ],
   "source": [
    "from scapy.all import *\n",
    "\n",
    "print('Lecture du contenu du fichier Texte.txt qui est un fichier au format␣ ↪texte :\\n') \n",
    "\n",
    "fichier = open(\"Texte.txt\",'rt') #r = read ; t = ouverture en mode texte les otctets sont traités comme des caractères affichables\n",
    "texte = fichier.read() \n",
    "print('READ:') \n",
    "print(texte) \n",
    "fichier.close()"
   ]
  },
  {
   "cell_type": "code",
   "execution_count": 7,
   "metadata": {},
   "outputs": [
    {
     "name": "stdout",
     "output_type": "stream",
     "text": [
      "READ(15):\n",
      "Ceci est un exe\n"
     ]
    }
   ],
   "source": [
    "fichier = open(\"Texte.txt\",'rt')\n",
    "texte = fichier.read(15) #le 15 correspond au nombre de caratère\n",
    "print('READ(15):')\n",
    "print(texte)\n",
    "fichier.close()"
   ]
  },
  {
   "cell_type": "code",
   "execution_count": 1,
   "metadata": {},
   "outputs": [
    {
     "name": "stdout",
     "output_type": "stream",
     "text": [
      "\n",
      "READLINE:\n",
      "Ceci est un exemple de fichier texte. \n",
      "\n"
     ]
    }
   ],
   "source": [
    "fichier = open(\"Texte.txt\",'rt')\n",
    "lignes = fichier.readline() #lis juste la première ligne\n",
    "print('\\nREADLINE:')\n",
    "print(lignes)\n",
    "fichier.close()"
   ]
  },
  {
   "cell_type": "code",
   "execution_count": 12,
   "metadata": {},
   "outputs": [
    {
     "name": "stdout",
     "output_type": "stream",
     "text": [
      "READLINES:\n",
      "['Ceci est un exemple de fichier texte. \\n', 'Son objectif est de démontrer les différentes possibilités offertes par Python pour accéder à son contenu. \\n', 'Un fichier texte ne contient par définition QUE des caractères affichables. \\n', '\\n', 'Les caractères affichables incluent également les caractères de tabulation, de fin de ligne, ou autres caractères spéciaux considérés néanmoins comme affichables.']\n"
     ]
    }
   ],
   "source": [
    "fichier = open(\"Texte.txt\",'rt')\n",
    "lignes = fichier.readlines() #tout est afficher sous forme d'une ligne sans carraectère spéciaux\n",
    "print('READLINES:')\n",
    "print(lignes)\n",
    "fichier.close()"
   ]
  },
  {
   "cell_type": "code",
   "execution_count": 5,
   "metadata": {},
   "outputs": [
    {
     "name": "stdout",
     "output_type": "stream",
     "text": [
      "Lecture du contenu du fichier Texte.pdf (pdf au format binaire) et␣ ↪affichage des 30 premières lignes :\n",
      "\n",
      "[b'%PDF-2.0\\n', b'%\\xba\\xba\\xde\\xda\\n', b'5 0 obj<</Linearized 1/L 14246/O 8/E 13779/N 1/T 13959/H [ 693 300]>>\\n', b'endobj\\n', b'                                                                                                                          \\n', b'6 0 obj<</Root 7 0 R/Info 3 0 R/ID[<66EBDCC16F2CB6D37D023237D120D5C1><DE30FD1C945D86C64C56AC2BEEE0C3ED>]/Size 19/Prev 13960/Length 62/Type/XRef/Filter/FlateDecode/DecodeParms<</Columns 4/Predictor 12>>/Index[5 14]/W[1 2 1]>>stream\\n', b'x\\x9ccbd\\xe0g`b`8\\x01$\\x986\\x01\\t\\xc6\\x08\\x101\\x81\\x81\\x89\\xf1\\xcf\\x0c\\x90\\x04\\x03#\\xd3\\x7f\\xb6\\xc2\\xff@\\xd9U@\\xb1\\x1fO\\x99 b\\x10\\t\\xe3\\xfb\\x7f\\x98\\x18\\xce\\x9fe\\x00\\x00x%\\r\\xd5\\n', b'endstream\\n', b'endobj\\n', b'startxref\\n', b'0\\n', b'%%EOF\\n', b'                                                                                                        \\n', b'7 0 obj<</Type/Catalog/Pages 2 0 R>>\\n', b'endobj\\n', b'18 0 obj<</S 36/Filter/FlateDecode/Length 49>>stream\\n', b'x\\x9cc```e``\\xda\\xca\\x00\\x04\\x86\\x9f\\x18\\xe0\\x00\\xcaf\\x06b\\x16\\x84(H-\\x1830L`\\xe0c`\\x10\\x9f\\xe0\\xb6\\xda\\x845\\x87\\x01\\x00\\xb8\\x0b\\x05\\xef\\n', b'endstream\\n', b'endobj\\n', b'                                                                                                                                                                                   \\n', b'8 0 obj<</Type/Page/Parent 2 0 R/MediaBox[0 0 612 792]/Resources<</Font<</F0 10 0 R/F1 11 0 R>>>>/CropBox[0 0 612 792]/Contents 17 0 R>>\\n', b'endobj\\n', b'9 0 obj<</Type/ObjStm/N 5/First 32/Filter/FlateDecode/Length 430>>stream\\n', b'x\\x9cuR\\xc1n\\xdb0\\x0c\\xfd\\x15\\x1e\\x1b\\x0c\\x89(\\xc9\\xb2\\x1c\\xa00\\x904\\x0b\\x92\\r\\xdb\\x80&m\\x0f\\x82\\x0en\\xacy\\x02\\x1c\\xdb\\xb0\\xb5a\\xf9\\xfbQN\\xd3!E{0H>\\xf2=\\xd2\"9\\x02\\x02\\xe7\\x90h\\xe0\\t\\xf0\\x94\\x02\\x05R+rA%\\x1cno\\xd9\\xfe\\xd49\\xb6n\\x9b\\xc0v\\xbf\\x9fC\\x0c\"\\xc2\\xd9\\xb2\\x18\\xdc\\x08o\\\\\\xfd\\xc7\\x05\\x7f(\\xf2\\xfc\\xaa\\xfc\\xb5\\xe0\\xcb\\xe3\\xe6a\\xfd\\xf5\\xd3\\xa2\\xf7E\\xfdm\\xcf\\xf6\\xedC\\xe3\\x0fm\\xe9\\x80\\x0b\\xea~\\x7f\\xa5\\x8bl\\xe5\\x86\\x83k\\xca\\xa2\\t\\x91<\\x18\\x9a\\x84\\x8a,\\xfb\\xdc\\x10\\xc77\\x15\\xdb\\x96\\xae\\t>\\x9c\\xa6\\x9b\\xeb\\x86\\x91\\xd8\\xfb.\\xb4\\xfd\\x18~/\\x8e\\xeem\\xeb\\x88\\xaf\\x8b\\xa3\\xafO7#4a\\xeb\\xba\\xa8\\x06H\\xd86\\x14\\xb5?,\\x9a\\xaav\\x80l\\x11G\\x080G\\xf52N\\x80\\xa9\\xe0\\x9c\\xdd\\x15\\xdd\\xc6\\xf9\\xea\\xd79\\xb5\\x0b\\xee\\xf8\\x08\\x1c\\x11G\\xe1\\xe5\\xb2\\xfdk\\xa6i\\x9a\\xcc\\x94B\\x9dq\\tS)\\x92\\x99F\\x8d\\x92\\x02\\x81\"\\x9bIA\\xbe\\xa0\\xe7E\\xa9g\\x1c\\xe7\\xf4\\xd4\\xf6<\\x95\\xaf\\x9d\\x00*\\xa3\\x7f\\xcds#\\x8d\\xd0\\xdaru6z4\\t\\x9a4%\\xa3\\x8dR\\xa9U<F\\xa0)\\xa1R\\xa3\\x85\\xb0i\\x16\\x130~\\x88p\\xf1\\x89\\xfa\\xdf\\xa72=7d \\x93\\xf2\\x15\\x8ez\\x9922B\\xc4|a\\xd897\\xa3\\x10\\xa2\\xe5\\x98\\x8e]9\\x17\\x97&\\xd6\\xbe{\\x1cw\\xdbU\\x8ccB|x\\x02T\\xb4;\\r\\xf4|\\xdb\\xe6gK2\\xf7\\xae\\xf2C\\xe8i+e\\xfb\\xec&\\xecG_\\xba\\x9ev}s\\xd9\\xf5\\x84\\xf4\\xbb\\xaev\\xc7\\xb8\\n', b'\\xcc\\xf37\\x0b\\x8f\\xc7\\x1b/\\xe9)\\x9eotVO\\xe3^\\xf2\\xfc\\x1f\\xf4\\xe9\\xd6:\\n', b'endstream\\n', b'endobj\\n', b'12 0 obj<</Filter/FlateDecode/Length 359>>stream\\n', b'x\\x9c]\\x92\\xdbj\\x840\\x10\\x86\\xef}\\x8a\\\\v/\\x16\\xd7C\\xcc.\\x88P\\xb6\\x14\\xbc\\xe8\\x81n\\xfb\\x00\\x9a\\x8c[\\xa1\\xc6\\x10\\xdd\\x0b\\xdf\\xbe\\xf1\\x1f\\xdbB\\x03\\t|\\xcc\\x81o\\xc8\\xc4\\xe7\\xfa\\xa1\\xb6\\xfd\\x1c\\xbf\\xfaQ_h\\x16]o\\x8d\\xa7i\\xbcyM\\xa2\\xa5ko\\xa3$\\x15\\xa6\\xd7\\xf3Fx\\xf5\\xd0\\xb8(\\x0e\\xb5\\x97e\\x9ai\\xa8m7Fe)\\xe2\\xb7\\x10\\x9cf\\xbf\\x88\\xbb{3\\xb6\\xb4\\x8b_\\xbc!\\xdf\\xdb\\xab\\xb8\\xfb8_v\\xf1\\xe5\\xe6\\xdc\\x17\\rdgq\\x10U%\\x0cu\\xa1\\xcdS\\xe3\\x9e\\x9b\\x81b\\xd4\\xeck\\x13\\xc2\\xfd\\xbc\\xecC\\xc5_\\xc2\\xfb\\xe2H\\xa4\\xe0\\x84M\\xf4hhr\\x8d&\\xdf\\xd8+E\\xe5!\\x9c\\xaa|\\x0c\\xa7\\x8a\\xc8\\x9a\\x7f\\xe1l\\xabj;\\xfd\\xd9xdgUx\\xd3C\\x05\\xe8\\x00\\x1a\\x90$\\x00\\x02\\xa4\\xc7\\x15r\\xc9\\x80\\xb4\\x9c\\xd324\\x90\\xdc \\xcb\\x01\\t\\x03j$\\xd7\\xe4\\x88\\x14\\x1c\\t}VH\\x19\\n', b'@\\xc6\\xa0\\x009\\x03\\x1a\\x14[\\x83\\x13\\xa0`h\\x00\\x8a\\xa1\\x05\\x1c\\x194\\xe0\\xc4\\x00\\xd1\\x82E\\x83\\xe2\\n']\n"
     ]
    }
   ],
   "source": [
    "print('Lecture du contenu du fichier Texte.pdf (pdf au format binaire) et␣ ↪affichage des 30 premières lignes :\\n')\n",
    "fichier = open(\"Texte.pdf\",'rb') #on l'affiche au format binaire\n",
    "texte = fichier.readlines()\n",
    "print(texte[0:30])"
   ]
  },
  {
   "cell_type": "code",
   "execution_count": 7,
   "metadata": {},
   "outputs": [
    {
     "name": "stdout",
     "output_type": "stream",
     "text": [
      "Avec le mode 'a' le contenu du fichier n'est pas effacé …\n",
      "Avec le mode 'a' le contenu du fichier n'est pas effacé …\n",
      "Avec le mode 'a' le contenu du fichier n'est pas effacé … \\nAvec le mode 'a' le contenu du fichier n'est pas effacé ... \\n Avec le mode 'a' le contenu du fichier n'est pas effacé ...\n"
     ]
    }
   ],
   "source": [
    "fichier = open(\"Texte2.txt\",'at') #a = ouverture en .append\n",
    "fichier.write(\" \\\\n Avec le mode 'a' le contenu du fichier n'est pas effacé ...\") # exrire dans le fichier\n",
    "fichier.close()\n",
    "fichier = open(\"Texte2.txt\",'rt')#on le lis et on l'ouvre en mode texte\n",
    "texte = fichier.read() #puis on le lis et on l'affiche \n",
    "print(texte)"
   ]
  },
  {
   "cell_type": "code",
   "execution_count": null,
   "metadata": {},
   "outputs": [],
   "source": []
  }
 ],
 "metadata": {
  "kernelspec": {
   "display_name": "base",
   "language": "python",
   "name": "python3"
  },
  "language_info": {
   "codemirror_mode": {
    "name": "ipython",
    "version": 3
   },
   "file_extension": ".py",
   "mimetype": "text/x-python",
   "name": "python",
   "nbconvert_exporter": "python",
   "pygments_lexer": "ipython3",
   "version": "3.11.6"
  }
 },
 "nbformat": 4,
 "nbformat_minor": 2
}
